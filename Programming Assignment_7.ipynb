{
 "cells": [
  {
   "cell_type": "markdown",
   "id": "c919b84a",
   "metadata": {},
   "source": [
    "# 1. Write a Python Program to find sum of array?"
   ]
  },
  {
   "cell_type": "code",
   "execution_count": 7,
   "id": "6fc33958",
   "metadata": {},
   "outputs": [
    {
     "name": "stdout",
     "output_type": "stream",
     "text": [
      "The array is  [ 4 12  2 20  8]\n",
      "Sum of the array is  46\n"
     ]
    }
   ],
   "source": [
    "from numpy import random\n",
    "import array as arr\n",
    "  \n",
    "#input values \n",
    "a= random.randint(50, size=(5))\n",
    "  \n",
    "print(\"The array is \",a)\n",
    "print ('Sum of the array is ', sum(a) ) "
   ]
  },
  {
   "cell_type": "markdown",
   "id": "7809ca76",
   "metadata": {},
   "source": [
    "# 2. Write a Python Program to find largest element in an array?"
   ]
  },
  {
   "cell_type": "code",
   "execution_count": 12,
   "id": "ce0eaf58",
   "metadata": {},
   "outputs": [
    {
     "name": "stdout",
     "output_type": "stream",
     "text": [
      "Enter the Array:6,88,9,4\n",
      "The largest element in the array (6, 88, 9, 4) is 88\n"
     ]
    }
   ],
   "source": [
    "def largest_element_in_array():\n",
    "    array_ = eval(input(\"Enter the Array:\"))\n",
    "    largest_element=sorted(array_, reverse=True)[0]\n",
    "    print(\"The largest element in the array {} is {}\".format(array_,largest_element))\n",
    "    \n",
    "largest_element_in_array()"
   ]
  },
  {
   "cell_type": "markdown",
   "id": "5b972d48",
   "metadata": {},
   "source": [
    "# 3. Write a Python Program for array rotation?"
   ]
  },
  {
   "cell_type": "code",
   "execution_count": 14,
   "id": "be067991",
   "metadata": {},
   "outputs": [
    {
     "name": "stdout",
     "output_type": "stream",
     "text": [
      "Enter the Array: 8,5,8,4,3,5,2,6,1\n",
      "The rotation or the reverse of the array (8, 5, 8, 4, 3, 5, 2, 6, 1) is (1, 6, 2, 5, 3, 4, 8, 5, 8)\n"
     ]
    }
   ],
   "source": [
    "def reverse_array():\n",
    "    array_ = eval(input(\"Enter the Array: \"))\n",
    "    reverse_array=array_[::-1]\n",
    "    print(\"The rotation or the reverse of the array {} is {}\".format(array_,reverse_array))\n",
    "    \n",
    "reverse_array()"
   ]
  },
  {
   "cell_type": "markdown",
   "id": "933860d6",
   "metadata": {},
   "source": [
    "# 4. Write a Python Program to Split the array and add the first part to the end?"
   ]
  },
  {
   "cell_type": "code",
   "execution_count": 3,
   "id": "7e42576c",
   "metadata": {},
   "outputs": [
    {
     "name": "stdout",
     "output_type": "stream",
     "text": [
      "Enter the Array: 2,3,4,5,6,76\n",
      "The sum of the split(fist part to the end part) array (2, 3, 4, 5, 6, 76) is 78\n"
     ]
    }
   ],
   "source": [
    "def splits_and_sum_of_array():\n",
    "    array_ = eval(input(\"Enter the Array: \"))\n",
    "    # split the array in two parts \n",
    "    first_part=array_[0]\n",
    "    end_part=array_[-1]\n",
    "    split_and_sum_array=first_part+end_part\n",
    "    print(\"The sum of the split(fist part to the end part) array {} is {}\".format(array_,split_and_sum_array))\n",
    "    \n",
    "splits_and_sum_of_array()"
   ]
  },
  {
   "cell_type": "markdown",
   "id": "ceac8ab1",
   "metadata": {},
   "source": [
    "# 5. Write a Python Program to check if given array is Monotonic?"
   ]
  },
  {
   "cell_type": "code",
   "execution_count": 3,
   "id": "033aad82",
   "metadata": {},
   "outputs": [
    {
     "name": "stdout",
     "output_type": "stream",
     "text": [
      "Enter the Array: 2,3,4,6,7,8\n",
      "array (2, 3, 4, 6, 7, 8) is monotnic \n"
     ]
    }
   ],
   "source": [
    "# Monotonic mean either continuously increasing or decreasing.\n",
    "def isMonotonic():\n",
    "    array=eval(input(\"Enter the Array: \"))\n",
    "    if(all(array[i]<=array[i+1] for i in range(len(array)-1)) or all(array[i]>=array[i+1] for i in range(len(array)-1))):\n",
    "        print('array {} is monotnic '.format(array))\n",
    "    else:\n",
    "         print('array {} is not monotnic '.format(array))\n",
    "\n",
    "            \n",
    "isMonotonic()\n"
   ]
  },
  {
   "cell_type": "code",
   "execution_count": null,
   "id": "583d56fd",
   "metadata": {},
   "outputs": [],
   "source": []
  }
 ],
 "metadata": {
  "kernelspec": {
   "display_name": "Python 3 (ipykernel)",
   "language": "python",
   "name": "python3"
  },
  "language_info": {
   "codemirror_mode": {
    "name": "ipython",
    "version": 3
   },
   "file_extension": ".py",
   "mimetype": "text/x-python",
   "name": "python",
   "nbconvert_exporter": "python",
   "pygments_lexer": "ipython3",
   "version": "3.9.12"
  }
 },
 "nbformat": 4,
 "nbformat_minor": 5
}

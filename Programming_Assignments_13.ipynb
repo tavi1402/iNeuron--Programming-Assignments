{
 "cells": [
  {
   "cell_type": "markdown",
   "id": "e056c623",
   "metadata": {},
   "source": [
    "### 1 .Write a program that calculates and prints the value according to the given formula:\n",
    "Q = Square root of [(2 * C * D)/H]\n",
    "Following are the fixed values of C and H:\n",
    "C is 50. H is 30.\n",
    "D is the variable whose values should be input to your program in a comma-separated sequence.\n",
    "Example\n",
    "Let us assume the following comma separated input sequence is given to the program:\n",
    "100,150,180\n",
    "The output of the program should be:\n",
    "18,22,24"
   ]
  },
  {
   "cell_type": "code",
   "execution_count": 10,
   "id": "0c56abf9",
   "metadata": {},
   "outputs": [
    {
     "name": "stdout",
     "output_type": "stream",
     "text": [
      "Enter comma separated input sequence (D): 100,150,180\n",
      "[18, 22, 24]\n"
     ]
    }
   ],
   "source": [
    "import math\n",
    "\n",
    "numbers = input(\"Enter comma separated input sequence (D): \")\n",
    "numbers = numbers.split(',')\n",
    "C=50\n",
    "H=30\n",
    "result_list = []\n",
    "for D in numbers:\n",
    "    Q = round(math.sqrt(2 * C * int(D) / H))\n",
    "    result_list.append(Q)\n",
    "\n",
    "print(result_list)"
   ]
  },
  {
   "cell_type": "markdown",
   "id": "58109aa4",
   "metadata": {},
   "source": [
    "### 2 Write a program which takes 2 digits, X,Y as input and generates a 2-dimensional array. The  element value in the i-th row and j-th column of the array should be i*j.\n",
    "Note: i=0,1.., X-1; j=0,1,¡Y-1.\n",
    "\n",
    "Example:\n",
    "Suppose the following inputs are given to the program:\n",
    "3,5\n",
    "Then, the output of the program should be:\n",
    "[[0, 0, 0, 0, 0], [0, 1, 2, 3, 4], [0, 2, 4, 6, 8]]"
   ]
  },
  {
   "cell_type": "code",
   "execution_count": 1,
   "id": "d7cca49f",
   "metadata": {},
   "outputs": [
    {
     "name": "stdout",
     "output_type": "stream",
     "text": [
      "enter the numbers of rows 3\n",
      "enter the numbers of columns 5\n",
      "[0, 0, 0, 0, 0]\n",
      "[0, 1, 2, 3, 4]\n",
      "[0, 2, 4, 6, 8]\n",
      "\n",
      "[[0, 0, 0, 0, 0], [0, 1, 2, 3, 4], [0, 2, 4, 6, 8]]\n"
     ]
    }
   ],
   "source": [
    "rows=input(\"enter the numbers of rows \")\n",
    "cols=input(\"enter the numbers of columns \")\n",
    "rows = int(rows)\n",
    "cols = int(cols)\n",
    "array_ = []\n",
    "for i in range(rows):\n",
    "    row = []\n",
    "    for j in range(cols):\n",
    "        row.append(i * j)\n",
    "    array_.append(row)\n",
    "    print(row)\n",
    "\n",
    "print()\n",
    "print(array_)\n"
   ]
  },
  {
   "cell_type": "markdown",
   "id": "eef3714f",
   "metadata": {},
   "source": [
    "### 3.Write a program that accepts a comma separated sequence of words as input and prints the words in a comma-separated sequence after sorting them alphabetically ?\n",
    "Suppose the following input is supplied to the program: without,hello,bag,world\n",
    "Then, the output should be: bag,hello,without,world"
   ]
  },
  {
   "cell_type": "code",
   "execution_count": 6,
   "id": "e1f30eef",
   "metadata": {},
   "outputs": [
    {
     "name": "stdout",
     "output_type": "stream",
     "text": [
      "Input comma separated sequence of wordsssanna,amaira,aisha,saira\n",
      "aisha,amaira,saira,ssanna\n"
     ]
    }
   ],
   "source": [
    "string_ = input(\"Input comma separated sequence of words\")\n",
    "words = [word for word in string_.split(\",\")]\n",
    "print(\",\".join(sorted(list(set(words)))))"
   ]
  },
  {
   "cell_type": "markdown",
   "id": "14e0d66f",
   "metadata": {},
   "source": [
    "### 4.Write a program that accepts a sequence of whitespace separated words as input and prints the words after removing all duplicate words and sorting them alphanumerically.\n",
    "Suppose the following input is supplied to the program: hello world and practice makes perfect and hello world again\n",
    "Then, the output should be: again and hello makes perfect practice world\n",
    "\n"
   ]
  },
  {
   "cell_type": "code",
   "execution_count": 9,
   "id": "bca81730",
   "metadata": {},
   "outputs": [
    {
     "name": "stdout",
     "output_type": "stream",
     "text": [
      "enter a string : hello world and practice makes perfect and hello world again \n",
      " again and hello makes perfect practice world\n"
     ]
    }
   ],
   "source": [
    "string_=input(\"enter a string : \")\n",
    "s=sorted((list(set(string_.split(\" \")))))\n",
    "print((\" \").join(s))\n"
   ]
  },
  {
   "cell_type": "markdown",
   "id": "2d56d7c7",
   "metadata": {},
   "source": [
    "### 5.Write a program that accepts a sentence and calculate the number of letters and digits.\n",
    "Suppose the following input is supplied to the program: hello world! 123\n",
    "Then, the output should be:\n",
    "LETTERS 10\n",
    "DIGITS 3"
   ]
  },
  {
   "cell_type": "code",
   "execution_count": 12,
   "id": "d20c1200",
   "metadata": {},
   "outputs": [
    {
     "name": "stdout",
     "output_type": "stream",
     "text": [
      "enter a stringsannaved11123432\n",
      "letters 8\n",
      "digit 8\n"
     ]
    }
   ],
   "source": [
    "string_=input(\"enter a string\")\n",
    "digit=0\n",
    "letter=0\n",
    "for i in string_:\n",
    "    if i.isalpha():\n",
    "        letter=letter+1\n",
    "    elif i.isdigit():\n",
    "        digit=digit+1\n",
    "print(\"letters\", letter)    \n",
    "print(\"digit\",digit)\n",
    "        "
   ]
  },
  {
   "cell_type": "markdown",
   "id": "94cc310e",
   "metadata": {},
   "source": [
    "### 6.A website requires the users to input username and password to register. Write a program to check the validity of password input by users.\n",
    "```\n",
    "Following are the criteria for checking the password:\n",
    "\n",
    "At least 1 letter between [a-z]\n",
    "At least 1 number between [0-9]\n",
    "At least 1 letter between [A-Z]\n",
    "At least 1 character from [$#@]\n",
    "\n",
    "Minimum length of transaction password: 6\n",
    "Maximum length of transaction password: 12\n",
    "Your program should accept a sequence of comma separated passwords and will check them according to the above criteria. Passwords that match the criteria are to be printed, each separated by a comma.\n",
    "\n",
    "Example:\n",
    "If the following passwords are given as input to the program: ABd1234@1,a F1#,2w3E*,2We3345\n",
    "Then, the output of the program should be:ABd1234@1\n",
    "\n",
    "```"
   ]
  },
  {
   "cell_type": "code",
   "execution_count": 6,
   "id": "b16d2515",
   "metadata": {},
   "outputs": [
    {
     "name": "stdout",
     "output_type": "stream",
     "text": [
      "Enter the set of passwords :ABd1234@1\n",
      "@\n",
      "ABd1234@1\n"
     ]
    }
   ],
   "source": [
    "values=input(\"Enter the set of passwords :\")\n",
    "list1=[]\n",
    "list1=values.split(',')\n",
    "num1=0\n",
    "num2=0\n",
    "num3=0\n",
    "num4=0\n",
    "for i in list1:\n",
    "    num1=len(i)\n",
    "    if(num1>=6 and num1<=12):\n",
    "        for z in i:\n",
    "            if (z.isupper()):\n",
    "                num1=1\n",
    "            if(z.islower()):\n",
    "                num2=1\n",
    "            if(z.isdigit()):\n",
    "                num3=1\n",
    "            if(z in ('#','$','@',\"*\")) :\n",
    "                print(z)\n",
    "                num4=1\n",
    "    if(num1+num2+num3+num4==4):\n",
    "        print(i)\n",
    "    else:\n",
    "        print(\"password failed\")"
   ]
  },
  {
   "cell_type": "code",
   "execution_count": null,
   "id": "b4c6abc8",
   "metadata": {},
   "outputs": [],
   "source": []
  }
 ],
 "metadata": {
  "kernelspec": {
   "display_name": "Python 3 (ipykernel)",
   "language": "python",
   "name": "python3"
  },
  "language_info": {
   "codemirror_mode": {
    "name": "ipython",
    "version": 3
   },
   "file_extension": ".py",
   "mimetype": "text/x-python",
   "name": "python",
   "nbconvert_exporter": "python",
   "pygments_lexer": "ipython3",
   "version": "3.9.12"
  }
 },
 "nbformat": 4,
 "nbformat_minor": 5
}

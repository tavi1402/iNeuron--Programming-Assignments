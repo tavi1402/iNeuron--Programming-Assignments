{
 "cells": [
  {
   "cell_type": "markdown",
   "id": "2e68c27d",
   "metadata": {},
   "source": [
    "# 1. Write a Python Program to Add Two Matrices?"
   ]
  },
  {
   "cell_type": "code",
   "execution_count": 27,
   "id": "520ca86e",
   "metadata": {},
   "outputs": [
    {
     "data": {
      "text/plain": [
       "array([[10, 17,  5],\n",
       "       [ 9, 13,  9],\n",
       "       [ 7, 10,  5]])"
      ]
     },
     "execution_count": 27,
     "metadata": {},
     "output_type": "execute_result"
    }
   ],
   "source": [
    "import numpy as np\n",
    "\n",
    "# The first matrix will be\n",
    "P = np.array([[8,9,3],\n",
    "              [3 ,5, 6],\n",
    "              [4 ,6, 3]])\n",
    "\n",
    "#The second matrix will be\n",
    "\n",
    "Q = np.array([[2,8,2],\n",
    "              [6,8,3],\n",
    "              [3,4,2]])\n",
    "np.add(P,Q)"
   ]
  },
  {
   "cell_type": "markdown",
   "id": "cf49b0d5",
   "metadata": {},
   "source": [
    "# 2. Write a Python Program to Multiply Two Matrices?"
   ]
  },
  {
   "cell_type": "code",
   "execution_count": 28,
   "id": "02dbedc6",
   "metadata": {},
   "outputs": [
    {
     "name": "stdout",
     "output_type": "stream",
     "text": [
      "[[ 79 148  49]\n",
      " [ 54  88  33]\n",
      " [ 53  92  32]]\n"
     ]
    }
   ],
   "source": [
    "# multiplication of two matrix using @ operator\n",
    "\n",
    "import numpy as np\n",
    "\n",
    "# The first matrix will be\n",
    "P = np.array([[8,9,3],\n",
    "              [3 ,5, 6],\n",
    "              [4 ,6, 3]])\n",
    "\n",
    "#The second matrix will be\n",
    "\n",
    "Q = np.array([[2,8,2],\n",
    "              [6,8,3],\n",
    "              [3,4,2]])\n",
    "print(P@Q)"
   ]
  },
  {
   "cell_type": "code",
   "execution_count": 29,
   "id": "a2b28efe",
   "metadata": {},
   "outputs": [
    {
     "data": {
      "text/plain": [
       "array([[ 79, 148,  49],\n",
       "       [ 54,  88,  33],\n",
       "       [ 53,  92,  32]])"
      ]
     },
     "execution_count": 29,
     "metadata": {},
     "output_type": "execute_result"
    }
   ],
   "source": [
    "# multiplication of two matrix using matmul function \n",
    "import numpy as np\n",
    "\n",
    "P = np.array([[8,9,3],\n",
    "              [3 ,5, 6],\n",
    "              [4 ,6, 3]])\n",
    "\n",
    "\n",
    "#The second matrix will be\n",
    "\n",
    "Q = np.array([[2,8,2],\n",
    "              [6,8,3],\n",
    "              [3,4,2]])\n",
    "np.matmul(P,Q)    "
   ]
  },
  {
   "cell_type": "markdown",
   "id": "8e2a0c31",
   "metadata": {},
   "source": [
    "# 3. Write a Python Program to Transpose a Matrix?"
   ]
  },
  {
   "cell_type": "code",
   "execution_count": 30,
   "id": "7b2536de",
   "metadata": {},
   "outputs": [
    {
     "data": {
      "text/plain": [
       "array([[8, 3, 4],\n",
       "       [9, 5, 6],\n",
       "       [3, 6, 3]])"
      ]
     },
     "execution_count": 30,
     "metadata": {},
     "output_type": "execute_result"
    }
   ],
   "source": [
    "P = np.array([[8,9,3],\n",
    "              [3 ,5, 6],\n",
    "              [4 ,6, 3]])\n",
    "\n",
    "P.transpose()"
   ]
  },
  {
   "cell_type": "markdown",
   "id": "fc0ce9fe",
   "metadata": {},
   "source": [
    "# 4. Write a Python Program to sort Words in an Alphabatical Order ?"
   ]
  },
  {
   "cell_type": "code",
   "execution_count": 31,
   "id": "f2fcc34a",
   "metadata": {},
   "outputs": [
    {
     "name": "stdout",
     "output_type": "stream",
     "text": [
      "Enter a String: ved is Sukhoi pilot \n",
      " Is Pilot Sukhoi Ved\n"
     ]
    }
   ],
   "source": [
    "def sort_string():\n",
    "    words_= input(\"Enter a String: \").title()\n",
    "    sorted_words = sorted(words_.split(' '))\n",
    "    print(sorted_words)\n",
    "\n",
    "sortString()"
   ]
  },
  {
   "cell_type": "markdown",
   "id": "1f71e715",
   "metadata": {},
   "source": [
    "# 5. Write a Python Program to Remove Punctuation From a String?"
   ]
  },
  {
   "cell_type": "code",
   "execution_count": 1,
   "id": "9446dbdb",
   "metadata": {},
   "outputs": [
    {
     "name": "stdout",
     "output_type": "stream",
     "text": [
      "Enter a String with panchuation : sanna @ is # strong ^ (%) girl\n",
      "Sanna  Is  Strong   Girl\n"
     ]
    }
   ],
   "source": [
    "# panchuation- the marks, such as full stop, comma, and brackets, used in writing to separate sentences and their elements and to clarify meaning.\n",
    "def remove_panchuation():\n",
    "    punctuations = '''!()-[]{};:'\"\\,<>./?@#$%^&*_~'''\n",
    "    string_with_panchuation  = input('Enter a String with panchuation : ').title()\n",
    "    string_without_panchuation = ''\n",
    "    for i in string_with_panchuation :\n",
    "        if i not in punctuations:\n",
    "            string_without_panchuation = string_without_panchuation+i\n",
    "    print(string_without_panchuation)\n",
    "    \n",
    "remove_panchuation()"
   ]
  },
  {
   "cell_type": "code",
   "execution_count": null,
   "id": "d530e5eb",
   "metadata": {},
   "outputs": [],
   "source": []
  }
 ],
 "metadata": {
  "kernelspec": {
   "display_name": "Python 3 (ipykernel)",
   "language": "python",
   "name": "python3"
  },
  "language_info": {
   "codemirror_mode": {
    "name": "ipython",
    "version": 3
   },
   "file_extension": ".py",
   "mimetype": "text/x-python",
   "name": "python",
   "nbconvert_exporter": "python",
   "pygments_lexer": "ipython3",
   "version": "3.9.12"
  }
 },
 "nbformat": 4,
 "nbformat_minor": 5
}

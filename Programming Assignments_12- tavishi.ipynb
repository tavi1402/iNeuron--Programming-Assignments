{
 "cells": [
  {
   "cell_type": "markdown",
   "id": "0a8d3600",
   "metadata": {},
   "source": [
    "### 1.Write a Python program to Extract Unique values dictionary values?"
   ]
  },
  {
   "cell_type": "code",
   "execution_count": 84,
   "id": "062ead3b",
   "metadata": {},
   "outputs": [
    {
     "name": "stdout",
     "output_type": "stream",
     "text": [
      "The Unique value in given dictionary is  [2, 3, 5, 6, 7, 8, 9, 82, 99]\n"
     ]
    }
   ],
   "source": [
    "from itertools import chain\n",
    "'''\n",
    "Itertools.chain()\n",
    "\n",
    "It’s a function that takes a list of iterables and returns a single iterable.\n",
    "It combines all of the iterables and returns a single iterable as output.\n",
    "Its output cannot be directly used and must thus be explicitly converted into iterables.\n",
    "\n",
    "'''\n",
    "dict1={\"sanna\":[7,3,6,3,9,8],\n",
    "       \"tavishi\": [7,3,2,6,7,9,2],\n",
    "       \"mavin\": [6,3,99,5,7,82,5]}\n",
    "unique_values_=print(\"The Unique value in given dictionary is \",sorted(set(chain(*dict1.values()))))\n"
   ]
  },
  {
   "cell_type": "markdown",
   "id": "2ef6f197",
   "metadata": {},
   "source": [
    "### 2.Write a Python program to find the sum of all items in a dictionary?"
   ]
  },
  {
   "cell_type": "code",
   "execution_count": 81,
   "id": "ac3baf45",
   "metadata": {},
   "outputs": [
    {
     "name": "stdout",
     "output_type": "stream",
     "text": [
      "All the items(values_ present in a list is : [2, 2, 3, 3, 3, 3, 5, 5, 6, 6, 6, 7, 7, 7, 7, 8, 9, 9, 82, 99]\n",
      "Sum of all the item in dict is  279\n"
     ]
    }
   ],
   "source": [
    "dict2={\"sanna\":[7,3,6,3,9,8],\n",
    "       \"tavishi\": [7,3,2,6,7,9,2],\n",
    "       \"mavin\": [6,3,99,5,7,82,5]}\n",
    "values_=sorted(chain(*dict1.values()))\n",
    "print(\"All the items(values_ present in a list is :\",values_)\n",
    "print(\"Sum of all the item in dict is \", sum(values_))\n",
    "\n",
    "    "
   ]
  },
  {
   "cell_type": "markdown",
   "id": "ceeb80fb",
   "metadata": {},
   "source": [
    "### 3.Write a Python program to Merging two Dictionaries?"
   ]
  },
  {
   "cell_type": "code",
   "execution_count": 102,
   "id": "378bffb5",
   "metadata": {},
   "outputs": [
    {
     "name": "stdout",
     "output_type": "stream",
     "text": [
      "{'sanna': [7, 3, 6, 3, 9, 8], 'tavishi': [7, 3, 2, 6, 7, 9, 2], 'mavin': [6, 3, 99, 5, 7, 82, 5], 'arin': [3, 8, 8, 3, 3, 21]}\n",
      "{'sanna': [7, 3, 6, 3, 9, 8], 'tavishi': [7, 3, 2, 6, 7, 9, 2], 'mavin': [6, 3, 99, 5, 7, 82, 5], 'arin': [3, 8, 8, 3, 3, 21]}\n",
      "{'mavin': [6, 3, 99, 5, 7, 82, 5], 'arin': [3, 8, 8, 3, 3, 21], 'sanna': [7, 3, 6, 3, 9, 8], 'tavishi': [7, 3, 2, 6, 7, 9, 2]}\n"
     ]
    }
   ],
   "source": [
    "dict1={\"sanna\":[7,3,6,3,9,8],\"tavishi\": [7,3,2,6,7,9,2]}\n",
    "dict2={\"mavin\": [6,3,99,5,7,82,5],\"arin\":[3,8,8,3,3,21]}\n",
    "\n",
    "# method 1  by using (|)\n",
    "\n",
    "print(dict1|dict2)  \n",
    "\n",
    "#method 2 by using (**kwargs)\n",
    "print({**dict1, **dict2})\n",
    "\n",
    "#method 3 by using (update)\n",
    "dict2.update(dict1)\n",
    "print(dict2)"
   ]
  },
  {
   "cell_type": "markdown",
   "id": "1ef85e28",
   "metadata": {},
   "source": [
    "### 4.Write a Python program to convert key-values list to flat dictionary?"
   ]
  },
  {
   "cell_type": "code",
   "execution_count": 1,
   "id": "05155466",
   "metadata": {},
   "outputs": [
    {
     "name": "stdout",
     "output_type": "stream",
     "text": [
      "{1: 'Jan', 2: 'Feb', 3: 'March'}\n",
      "{'sanna': 10, 'ved': 20, 'tavisi': 30, 'Arin ': 40, 'kavin': 50, 'lev': 60}\n",
      "{'sanna': 10, 'ved': 20, 'tavisi': 30, 'Arin ': 40, 'kavin': 50, 'lev': 60}\n"
     ]
    }
   ],
   "source": [
    "# method1: using zip() method\n",
    "'''\n",
    "The zip() method is a built-in function\n",
    "that accepts iterables as parameters and \n",
    "returns a tuple of the elements from each iterable\n",
    "'''\n",
    "\n",
    "dict_1 = {'month' : [1, 2, 3],\n",
    "             'name' : ['Jan', 'Feb', 'March']}\n",
    "\n",
    "new_dict_1 = dict(zip(dict_1['month'], dict_1['name']))\n",
    "print(new_dict_1)\n",
    "\n",
    "# methd2:by using for loop \n",
    "\n",
    "\n",
    "dict_2 = [('sanna',10),('ved',20),('tavisi',30),('Arin ',40),('kavin',50),('lev',60)]\n",
    "new_dict = {}\n",
    "for i in dict_2:\n",
    "    new_dict[i[0]] = i[1]\n",
    "print(new_dict)\n",
    "\n",
    "# method3: using dict() method\n",
    "\n",
    "'''\n",
    "The dict() method is a built-in function used to create a dictionary in Python\n",
    "'''\n",
    "\n",
    "dict_3 = [('sanna',10),('ved',20),('tavisi',30),('Arin ',40),('kavin',50),('lev',60)]\n",
    "print(dict(dict_3))"
   ]
  },
  {
   "cell_type": "markdown",
   "id": "e80680e3",
   "metadata": {},
   "source": [
    "### 5.Write a Python program to insertion at the beginning in OrderedDict?"
   ]
  },
  {
   "cell_type": "code",
   "execution_count": 147,
   "id": "386db8c9",
   "metadata": {},
   "outputs": [
    {
     "name": "stdout",
     "output_type": "stream",
     "text": [
      "OrderedDict([('sanna', 10), ('ved', 20), ('tavisi', 30), ('Arin ', 40)])\n",
      "OrderedDict([('kavin', 50), ('sanna', 10), ('ved', 20), ('tavisi', 30), ('Arin ', 40)])\n"
     ]
    }
   ],
   "source": [
    "# method: Using OrderedDict.move_to_end()\n",
    "\n",
    "from collections import OrderedDict\n",
    " \n",
    "#dict_1 = OrderedDict([('sanna',10),('ved',20),('tavisi',30),('Arin ',40)]) or \n",
    "dict_1 = OrderedDict({'sanna': 10, 'ved': 20, 'tavisi': 30, 'Arin ': 40})\n",
    "print(dict_1)\n",
    " \n",
    "# inserting items in starting of dict\n",
    "dict_1.update({'kavin':50})\n",
    "dict_1.move_to_end('kavin', last = False)\n",
    "\n",
    "print (dict_1)"
   ]
  },
  {
   "cell_type": "markdown",
   "id": "7c4e5ef3",
   "metadata": {},
   "source": [
    "### 6.Write a Python program to check order of character in string using OrderedDict()?"
   ]
  },
  {
   "cell_type": "code",
   "execution_count": 18,
   "id": "d571f55e",
   "metadata": {},
   "outputs": [
    {
     "name": "stdout",
     "output_type": "stream",
     "text": [
      "OrderedDict([('p', None), ('a', None), ('r', None), ('t', None), ('y', None)])\n",
      "the oder of given character pa in string is correct \n",
      "OrderedDict([('W', None), ('e', None), ('l', None), ('c', None), ('o', None), ('m', None)])\n",
      "the oder of given charchter pa in string is incporrect \n"
     ]
    }
   ],
   "source": [
    "from collections import OrderedDict \n",
    "def checkOrder(string, character): \n",
    "    dic1 = OrderedDict.fromkeys(string) \n",
    "    print(dic1)\n",
    "    character_length= 0\n",
    "    for key,value in dic1.items(): \n",
    "        if (key == character[character_length]): \n",
    "            character_length = character_length + 1\n",
    "        if (character_length == (len(character))): \n",
    "            return f\"the oder of given character {character} in string is correct \"\n",
    "    return f\"the oder of given charchter {character} in string is incporrect \"\n",
    "\n",
    "str = 'party'\n",
    "character = 'pa'\n",
    "print (checkOrder(string,character))\n",
    "\n",
    "string2= 'Welcome'\n",
    "character2= 'mc'\n",
    "print (checkOrder(string2,character)) "
   ]
  },
  {
   "cell_type": "markdown",
   "id": "7a535c4c",
   "metadata": {},
   "source": [
    "### 7.Write a Python program to sort Python Dictionaries by Key or Value?"
   ]
  },
  {
   "cell_type": "code",
   "execution_count": 31,
   "id": "93e90514",
   "metadata": {},
   "outputs": [
    {
     "name": "stdout",
     "output_type": "stream",
     "text": [
      "The sorted dictionary by keys {'zaden': 5, 'lev': 33, 'mavin': 75, 'arik': 89, 'sanna': 90}\n",
      "The sorted dictionary by keys {'sanna': 90, 'arik': 89, 'mavin': 75, 'lev': 33, 'zaden': 5}\n"
     ]
    }
   ],
   "source": [
    "d = {'sanna':90,'lev':33,'mavin':75,'arik':89,\"zaden\":5}\n",
    "a = dict(sorted(d.items(), key=lambda x: x[1]))\n",
    "print(\"The sorted dictionary by keys\",a)\n",
    "b = dict(sorted(d.items(), key=lambda x: x[1], reverse=True))\n",
    "print(\"The sorted dictionary by keys\",b)\n"
   ]
  }
 ],
 "metadata": {
  "kernelspec": {
   "display_name": "Python 3 (ipykernel)",
   "language": "python",
   "name": "python3"
  },
  "language_info": {
   "codemirror_mode": {
    "name": "ipython",
    "version": 3
   },
   "file_extension": ".py",
   "mimetype": "text/x-python",
   "name": "python",
   "nbconvert_exporter": "python",
   "pygments_lexer": "ipython3",
   "version": "3.9.12"
  }
 },
 "nbformat": 4,
 "nbformat_minor": 5
}

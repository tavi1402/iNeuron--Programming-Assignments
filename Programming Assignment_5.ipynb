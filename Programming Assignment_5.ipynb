{
 "cells": [
  {
   "cell_type": "markdown",
   "id": "49dc68f2",
   "metadata": {},
   "source": [
    "# 1. Write a Python Program to Find LCM?"
   ]
  },
  {
   "cell_type": "code",
   "execution_count": 17,
   "id": "3cc6b238",
   "metadata": {},
   "outputs": [
    {
     "name": "stdout",
     "output_type": "stream",
     "text": [
      "Enter the first number:3\n",
      "Enter the second number:5\n",
      "The L.C.M. of 3 ,5 is : 15\n"
     ]
    }
   ],
   "source": [
    "a=int(input(\"Enter the first number:\"))\n",
    "b=int(input(\"Enter the second number:\"))\n",
    "\n",
    "def cal_lcm(a,b):\n",
    "    if(a>b):\n",
    "        greater=a\n",
    "    else:\n",
    "        greater=b\n",
    "\n",
    "    while(True):\n",
    "        if(greater%a==0 and greater%b==0):\n",
    "            lcm=greater\n",
    "            break\n",
    "        greater=greater+1\n",
    "    return lcm\n",
    "        \n",
    "print(\"The L.C.M. of {} ,{} is : {}\".format(a,b,cal_lcm(a,b)))    \n",
    "    "
   ]
  },
  {
   "cell_type": "markdown",
   "id": "3aa6a05c",
   "metadata": {},
   "source": [
    "# 2. Write a Python Program to Find HCF?"
   ]
  },
  {
   "cell_type": "code",
   "execution_count": 25,
   "id": "74fba94f",
   "metadata": {},
   "outputs": [
    {
     "name": "stdout",
     "output_type": "stream",
     "text": [
      "Enter the first number:6\n",
      "Enter the second number:9\n",
      "The H.C.F. of 6 ,9 is : 3\n"
     ]
    }
   ],
   "source": [
    "a=int(input(\"Enter the first number:\"))\n",
    "b=int(input(\"Enter the second number:\"))\n",
    "def cal_hcf(a, b):\n",
    "\n",
    "# choose the smaller number\n",
    "    if a > b:\n",
    "        smaller = b\n",
    "    else:\n",
    "        smaller = a\n",
    "    for i in range(1, smaller+1):\n",
    "        if((a % i == 0) and (b % i == 0)):\n",
    "            hcf = i \n",
    "    return hcf\n",
    "\n",
    "print(\"The H.C.F. of {} ,{} is : {}\".format(a,b,cal_hcf(a,b))) "
   ]
  },
  {
   "cell_type": "markdown",
   "id": "dab6ce53",
   "metadata": {},
   "source": [
    "# 3. Write a Python Program to Convert Decimal to Binary, Octal and Hexadecimal?"
   ]
  },
  {
   "cell_type": "code",
   "execution_count": 28,
   "id": "9bb7eb5a",
   "metadata": {},
   "outputs": [
    {
     "name": "stdout",
     "output_type": "stream",
     "text": [
      "enter an integer487356\n",
      "The decimal value of 487356 is:\n",
      "0b1110110111110111100 in binary.\n",
      "0o1667674 in octal.\n",
      "0x76fbc in hexadecimal.\n"
     ]
    }
   ],
   "source": [
    "number=int(input(\"enter an integer\"))\n",
    "\n",
    "def dec_to_bn_oct_hex():\n",
    "    print(\"The decimal value of\", number, \"is:\")\n",
    "    print(bin(number), \"in binary.\")\n",
    "    print(oct(number), \"in octal.\")\n",
    "    print(hex(number), \"in hexadecimal.\")\n",
    "    \n",
    "dec_to_bn_oct_hex()    "
   ]
  },
  {
   "cell_type": "markdown",
   "id": "61b1273b",
   "metadata": {},
   "source": [
    "# 4. Write a Python Program To Find ASCII value of a character?"
   ]
  },
  {
   "cell_type": "code",
   "execution_count": 34,
   "id": "2a25138c",
   "metadata": {},
   "outputs": [
    {
     "name": "stdout",
     "output_type": "stream",
     "text": [
      "Enter a character: a\n",
      "The ASCII value of 'a' is 97\n"
     ]
    }
   ],
   "source": [
    "char_ = input(\"Enter a character: \") \n",
    "\n",
    "def char_to_Ascii():\n",
    "\n",
    "    if len(char_) > 1:\n",
    "        print('Please Enter a Single Character')\n",
    "    else:\n",
    "        print(\"The ASCII value of '\" + char_ + \"' is\",ord(char_))  \n",
    "\n",
    "# def charToAscii():\n",
    "#     char = input('Enter a Character: ')\n",
    "#     if len(char) > 1:\n",
    "#         print('Please Enter a Single Character')\n",
    "#     else:\n",
    "#         print(f'Ascii Character of {char} is {ord(char)}')\n",
    "\n",
    "char_to_Ascii()"
   ]
  },
  {
   "cell_type": "markdown",
   "id": "d525ae36",
   "metadata": {},
   "source": [
    "# 5. Write a Python Program to Make a Simple Calculator with 4 basic mathematical operations?"
   ]
  },
  {
   "cell_type": "code",
   "execution_count": null,
   "id": "30281d30",
   "metadata": {},
   "outputs": [
    {
     "name": "stdout",
     "output_type": "stream",
     "text": [
      "\n",
      "Please type in the math operation you would like to complete:\n",
      "'+' for addition\n",
      "'-' for subtraction\n",
      "'*' for multiplication\n",
      "/ for division\n",
      "-\n",
      "Please enter the first number: 9\n",
      "Please enter the second number: 3\n",
      "9 - 3 = \n",
      "6\n",
      "do you want to calculate again (Y/N)y\n",
      "\n",
      "Please type in the math operation you would like to complete:\n",
      "'+' for addition\n",
      "'-' for subtraction\n",
      "'*' for multiplication\n",
      "/ for division\n",
      "-\n"
     ]
    }
   ],
   "source": [
    "def calculate():\n",
    "    operation = input('''\n",
    "Please type in the math operation you would like to complete:\n",
    "'+' for addition\n",
    "'-' for subtraction\n",
    "'*' for multiplication\n",
    "/ for division\n",
    "''')\n",
    "\n",
    "    num1 = int(input('Please enter the first number: '))\n",
    "    num2 = int(input('Please enter the second number: '))\n",
    "\n",
    "    if operation == '+':\n",
    "        print('the addition of twoo number {} + {} = '.format(num1, num2))\n",
    "        print(num1+ num2)\n",
    "\n",
    "    elif operation == '-':\n",
    "        print('{} - {} = '.format(num1, num2))\n",
    "        print(num1 - num2)\n",
    "\n",
    "    elif operation == '*':\n",
    "        print('{} * {} = '.format(num1, num2))\n",
    "        print(num1 * num2)\n",
    "\n",
    "    elif operation == '/':\n",
    "        print('{} / {} = '.format(num1, num2))\n",
    "        print(num1 / num2)\n",
    "\n",
    "    else:\n",
    "        print(' invalid operator, please enter the right operatorand run the program again .')\n",
    "\n",
    "    # Add continue_calculation() function to calculate() function\n",
    "    continue_calculation()\n",
    "    \n",
    "def continue_calculation ():\n",
    "    calc_again = input('do you want to calculate again (Y/N)')\n",
    "    if calc_again.upper() == 'Y':\n",
    "        calculate()\n",
    "    elif calc_again.upper() == 'N':\n",
    "        print('thank you for using calculater')\n",
    "    else:\n",
    "        continue_calculation()\n",
    "\n",
    "calculate()"
   ]
  },
  {
   "cell_type": "markdown",
   "id": "40fe791e",
   "metadata": {},
   "source": []
  }
 ],
 "metadata": {
  "kernelspec": {
   "display_name": "Python 3 (ipykernel)",
   "language": "python",
   "name": "python3"
  },
  "language_info": {
   "codemirror_mode": {
    "name": "ipython",
    "version": 3
   },
   "file_extension": ".py",
   "mimetype": "text/x-python",
   "name": "python",
   "nbconvert_exporter": "python",
   "pygments_lexer": "ipython3",
   "version": "3.9.12"
  }
 },
 "nbformat": 4,
 "nbformat_minor": 5
}

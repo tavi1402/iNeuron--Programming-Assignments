{
 "cells": [
  {
   "cell_type": "markdown",
   "id": "83470bcf",
   "metadata": {},
   "source": [
    "### 1. Write a Python program to find words which are greater than given length k ?"
   ]
  },
  {
   "cell_type": "code",
   "execution_count": 1,
   "id": "b97dd302",
   "metadata": {},
   "outputs": [
    {
     "name": "stdout",
     "output_type": "stream",
     "text": [
      "['duty', 'fighter', 'pilot', 'patrol', 'area', 'sky,', 'shoot', 'down', 'enemy']\n"
     ]
    }
   ],
   "source": [
    "def string_k(k, str):\n",
    "    string = []\n",
    "    text = str.split(\" \")\n",
    "    for i in text:\n",
    "        if len(i) > k:\n",
    "            string.append(i)\n",
    "            \n",
    "    return string\n",
    "k = 3\n",
    "str =\"The duty of the fighter pilot is to patrol his area of the sky, and shoot down any enemy \"\n",
    "print(string_k(k, str))"
   ]
  },
  {
   "cell_type": "markdown",
   "id": "8cda4e70",
   "metadata": {},
   "source": [
    "### 2. Write a Python program for removing i-th character from a string ?"
   ]
  },
  {
   "cell_type": "code",
   "execution_count": 3,
   "id": "0e40cf0d",
   "metadata": {},
   "outputs": [
    {
     "name": "stdout",
     "output_type": "stream",
     "text": [
      "enter the string : Tavishi\n",
      "enter the index of the charachter to remove: 2\n"
     ]
    },
    {
     "data": {
      "text/plain": [
       "'Taishi'"
      ]
     },
     "execution_count": 3,
     "metadata": {},
     "output_type": "execute_result"
    }
   ],
   "source": [
    "def remove_ith_char(): \n",
    "    string= input(\"enter the string : \")\n",
    "    i=int(input(\"enter the index of the charachter to remove: \"))\n",
    "    for j in range(len(string)):\n",
    "        if j == i:\n",
    "            string = string.replace(string[i], \"\")\n",
    "    return string \n",
    "remove_ith_char()"
   ]
  },
  {
   "cell_type": "markdown",
   "id": "7744255f",
   "metadata": {},
   "source": [
    "### 3. Write a Python program to split and join a string ?"
   ]
  },
  {
   "cell_type": "code",
   "execution_count": 4,
   "id": "ecb189eb",
   "metadata": {},
   "outputs": [
    {
     "name": "stdout",
     "output_type": "stream",
     "text": [
      "Enter the string: Without the pilot, there is no flying from one place to another\n",
      "['Without', 'the', 'pilot,', 'there', 'is', 'no', 'flying', 'from', 'one', 'place', 'to', 'another']\n",
      "Without the pilot, there is no flying from one place to another\n"
     ]
    }
   ],
   "source": [
    "def splitJoinString():\n",
    "    string = input('Enter the string: ')\n",
    "    split_string= string.split(' ')\n",
    "    print(split_string)\n",
    "    print((\" \").join(split_string))\n",
    "\n",
    "splitJoinString()"
   ]
  },
  {
   "cell_type": "markdown",
   "id": "2a3d678d",
   "metadata": {},
   "source": [
    "### 4. Write a Python to check if a given string is binary string or not ?\n"
   ]
  },
  {
   "cell_type": "code",
   "execution_count": 5,
   "id": "1979c500",
   "metadata": {},
   "outputs": [
    {
     "name": "stdout",
     "output_type": "stream",
     "text": [
      "Enter the binary string : 1110111\n",
      "The String is binary string\n",
      "Enter the binary string : tavishi \n",
      "The String is not a binary string\n"
     ]
    }
   ],
   "source": [
    "def binary_string():    \n",
    "    myStr =  input('Enter the binary string : ')\n",
    "\n",
    "    flag = True\n",
    "    for char in myStr :\n",
    "        if(char == '0' or char == '1'):\n",
    "            continue \n",
    "        else :\n",
    "            flag = False\n",
    "            print(\"The String is not a binary string\")\n",
    "            break\n",
    "\n",
    "    if(flag):\n",
    "        print(\"The String is binary string\")\n",
    "\n",
    "binary_string()\n",
    "binary_string()\n"
   ]
  },
  {
   "cell_type": "markdown",
   "id": "785d158f",
   "metadata": {},
   "source": [
    "### 5. Write a Python program to find uncommon words from two Strings ?"
   ]
  },
  {
   "cell_type": "code",
   "execution_count": 10,
   "id": "4394c72f",
   "metadata": {},
   "outputs": [
    {
     "data": {
      "text/plain": [
       "{'is', 'sanna'}"
      ]
     },
     "execution_count": 10,
     "metadata": {},
     "output_type": "execute_result"
    }
   ],
   "source": [
    "def uncommon(a,b):\n",
    "    a=a.split()\n",
    "    b=b.split()\n",
    "    k=set(a).symmetric_difference(set(b))\n",
    "    return k\n",
    "uncommon(\"sanna is tavishi\", \"tavishi\")"
   ]
  },
  {
   "cell_type": "markdown",
   "id": "55f10a17",
   "metadata": {},
   "source": [
    "### 6. Write a Python to find all duplicate characters in string ?"
   ]
  },
  {
   "cell_type": "code",
   "execution_count": 14,
   "id": "ccc98454",
   "metadata": {},
   "outputs": [
    {
     "name": "stdout",
     "output_type": "stream",
     "text": [
      "Enter the string :It takes about 21 days to form a new habit.\n",
      "there are 7 duplicate charachter ['t', ' ', 'a', 'e', 's', 'b', 'o'] in given It takes about 21 days to form a new habit.\n"
     ]
    }
   ],
   "source": [
    "string = input(\"Enter the string :\") \n",
    "count=0\n",
    "duplicates = []\n",
    "for i in string:\n",
    "    if string.count(i) > 1:\n",
    "        if i not in duplicates:\n",
    "            duplicates.append(i)\n",
    "            count=count+1\n",
    "print(f\"there are {count} duplicate charachter {duplicates} in given {string}\")"
   ]
  },
  {
   "cell_type": "markdown",
   "id": "4a380b5b",
   "metadata": {},
   "source": [
    "### 7. Write a Python Program to check if a string contains any special character?"
   ]
  },
  {
   "cell_type": "code",
   "execution_count": 15,
   "id": "87123eee",
   "metadata": {},
   "outputs": [
    {
     "name": "stdout",
     "output_type": "stream",
     "text": [
      "Enter the string: tavishi#@%67\n",
      "There are 3 Speical Characters in tavishi#@%67 which are ['#', '@', '%']\n",
      "Enter the string: #*&^@!)(tavishi)\n",
      "There are 9 Speical Characters in #*&^@!)(tavishi) which are ['#', '*', '&', '^', '@', '!', ')', '(', ')']\n"
     ]
    }
   ],
   "source": [
    "def checkSpecialChar():\n",
    "    spl_chars = '[@_!#$%^&*()<>?/\\|}{~:]'\n",
    "    in_num = input('Enter the string: ')\n",
    "    count = 0\n",
    "    char_list = []\n",
    "    for ele in in_num:\n",
    "        if ele in spl_chars:\n",
    "            char_list.append(ele)\n",
    "            count = count+1\n",
    "    print(f'There are {count} Speical Characters in {in_num} which are {char_list}')\n",
    "            \n",
    "        \n",
    "checkSpecialChar()\n",
    "checkSpecialChar()"
   ]
  },
  {
   "cell_type": "code",
   "execution_count": null,
   "id": "4749e637",
   "metadata": {},
   "outputs": [],
   "source": []
  }
 ],
 "metadata": {
  "kernelspec": {
   "display_name": "Python 3 (ipykernel)",
   "language": "python",
   "name": "python3"
  },
  "language_info": {
   "codemirror_mode": {
    "name": "ipython",
    "version": 3
   },
   "file_extension": ".py",
   "mimetype": "text/x-python",
   "name": "python",
   "nbconvert_exporter": "python",
   "pygments_lexer": "ipython3",
   "version": "3.9.12"
  }
 },
 "nbformat": 4,
 "nbformat_minor": 5
}

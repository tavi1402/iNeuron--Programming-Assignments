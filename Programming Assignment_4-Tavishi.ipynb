{
 "cells": [
  {
   "cell_type": "markdown",
   "id": "9dde036a",
   "metadata": {},
   "source": [
    "# 1. Write a Python Program to Find the Factorial of a Number?"
   ]
  },
  {
   "cell_type": "code",
   "execution_count": 17,
   "id": "cf8e208d",
   "metadata": {},
   "outputs": [
    {
     "name": "stdout",
     "output_type": "stream",
     "text": [
      "enter the number7\n",
      "Factorial of number 7 is 5040\n"
     ]
    }
   ],
   "source": [
    "def factorial(num):\n",
    "    if (num < 1):\n",
    "        return 1\n",
    "    else:\n",
    "        return num*factorial(num-1)\n",
    "num = int(input('Enter a number: '))\n",
    "value = factorial(num)\n",
    "print(f'The Factorial of {num} is {value}')"
   ]
  },
  {
   "cell_type": "code",
   "execution_count": 18,
   "id": "f604b8a9",
   "metadata": {},
   "outputs": [
    {
     "name": "stdout",
     "output_type": "stream",
     "text": [
      "enter the number7\n",
      "Factorial of number 7 is 5040\n"
     ]
    }
   ],
   "source": [
    "# import math\n",
    "\n",
    "# number = int(input(\"enter the number\"))\n",
    "# def factorial(number):\n",
    "#     return(math.factorial(number))\n",
    "# print(\"Factorial of number {} is {}\".format(number,factorial(number)))"
   ]
  },
  {
   "cell_type": "markdown",
   "id": "94cb56c0",
   "metadata": {},
   "source": [
    "# 2. Write a Python Program to Display the multiplication Table?"
   ]
  },
  {
   "cell_type": "code",
   "execution_count": 20,
   "id": "6d3729f7",
   "metadata": {},
   "outputs": [
    {
     "name": "stdout",
     "output_type": "stream",
     "text": [
      "Enter the number: 5\n",
      "Multiplication Table of 5\n",
      "5 X 1 = 5\n",
      "5 X 2 = 10\n",
      "5 X 3 = 15\n",
      "5 X 4 = 20\n",
      "5 X 5 = 25\n",
      "5 X 6 = 30\n",
      "5 X 7 = 35\n",
      "5 X 8 = 40\n",
      "5 X 9 = 45\n",
      "5 X 10 = 50\n"
     ]
    }
   ],
   "source": [
    "number = int(input(\"Enter the number: \"))\n",
    "print(\"Multiplication Table of\", number)\n",
    "for i in range(1, 11):\n",
    "    print(number,\"X\",i,\"=\",number * i)"
   ]
  },
  {
   "cell_type": "markdown",
   "id": "a8c5891c",
   "metadata": {},
   "source": [
    "# 3. Write a Python Program to Print the Fibonacci sequence?"
   ]
  },
  {
   "cell_type": "code",
   "execution_count": 47,
   "id": "adfb0ea3",
   "metadata": {},
   "outputs": [
    {
     "name": "stdout",
     "output_type": "stream",
     "text": [
      "Enter the Number of febonacci sequence : 11\n",
      "0\n",
      "1\n",
      "1\n",
      "2\n",
      "3\n",
      "5\n",
      "8\n",
      "13\n",
      "21\n",
      "34\n",
      "55\n"
     ]
    }
   ],
   "source": [
    "num = int(input(\"Enter the Number of febonacci sequence : \"))\n",
    "if(num<0): \n",
    "    print('Fibonacci sequence are not available for Negative Numbers')\n",
    "First_val = 0\n",
    "Second_val = 1\n",
    "for n in range(0, num):\n",
    "    if(n <= 1):\n",
    "        next = n\n",
    "    else:\n",
    "        next = First_val + Second_val\n",
    "        First_val = Second_val\n",
    "        Second_val = next\n",
    "    print(next)"
   ]
  },
  {
   "cell_type": "markdown",
   "id": "54fd48db",
   "metadata": {},
   "source": [
    "# 4. Write a Python Program to Check Armstrong Number?"
   ]
  },
  {
   "cell_type": "code",
   "execution_count": 70,
   "id": "75231b3b",
   "metadata": {},
   "outputs": [
    {
     "name": "stdout",
     "output_type": "stream",
     "text": [
      "Enter a number: 153\n",
      "153 is an Armstrong number\n"
     ]
    }
   ],
   "source": [
    "number = int(input(\"Enter a number: \"))\n",
    "\n",
    "def check_armstrong():\n",
    "    sum = 0\n",
    "    new_num = number\n",
    "    while new_num > 0:\n",
    "        n = new_num % 10\n",
    "        sum += n ** 3\n",
    "        new_num //= 10\n",
    "\n",
    "    if number == sum:\n",
    "        print(number,\"is an Armstrong number\")\n",
    "    else:\n",
    "        print(number,\"is not an Armstrong number\")\n",
    "check_armstrong()       "
   ]
  },
  {
   "cell_type": "markdown",
   "id": "f9351130",
   "metadata": {},
   "source": [
    "# 5.Write a Python Program to Find Armstrong number in an interval ?"
   ]
  },
  {
   "cell_type": "code",
   "execution_count": 89,
   "id": "531b2576",
   "metadata": {},
   "outputs": [
    {
     "name": "stdout",
     "output_type": "stream",
     "text": [
      "Enter lower range: 1\n",
      "Enter upper range: 400\n",
      "1\n",
      "153\n",
      "370\n",
      "371\n"
     ]
    }
   ],
   "source": [
    "def check_armstrong():\n",
    "    lower_no = int(input(\"Enter lower range: \"))\n",
    "    upper_no = int(input(\"Enter upper range: \"))\n",
    "\n",
    "    for num in range(lower_no,upper_no + 1):\n",
    "        sum=0\n",
    "        new_num= num\n",
    "        while new_num > 0:\n",
    "            n = new_num % 10\n",
    "            sum += n ** 3\n",
    "            new_num //= 10\n",
    "\n",
    "        if num == sum:\n",
    "            print(num)\n",
    "check_armstrong()"
   ]
  },
  {
   "cell_type": "markdown",
   "id": "9d48a046",
   "metadata": {},
   "source": [
    "# 6. Write a Python Program to Find the Sum of Natural Numbers?"
   ]
  },
  {
   "cell_type": "code",
   "execution_count": 90,
   "id": "49d27f93",
   "metadata": {},
   "outputs": [
    {
     "name": "stdout",
     "output_type": "stream",
     "text": [
      "Enter a number: 100\n",
      "The sum of natural number = 5050\n"
     ]
    }
   ],
   "source": [
    "number = int(input('Enter a number : '))\n",
    "sum = 0\n",
    "no = 1\n",
    "while no <= number:\n",
    "    sum += no \n",
    "    no += 1\n",
    "    \n",
    "print('The sum of natural number =', sum)"
   ]
  },
  {
   "cell_type": "code",
   "execution_count": null,
   "id": "b1646084",
   "metadata": {},
   "outputs": [],
   "source": []
  }
 ],
 "metadata": {
  "kernelspec": {
   "display_name": "Python 3 (ipykernel)",
   "language": "python",
   "name": "python3"
  },
  "language_info": {
   "codemirror_mode": {
    "name": "ipython",
    "version": 3
   },
   "file_extension": ".py",
   "mimetype": "text/x-python",
   "name": "python",
   "nbconvert_exporter": "python",
   "pygments_lexer": "ipython3",
   "version": "3.9.12"
  }
 },
 "nbformat": 4,
 "nbformat_minor": 5
}

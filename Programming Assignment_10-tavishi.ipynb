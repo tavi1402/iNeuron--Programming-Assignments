{
 "cells": [
  {
   "cell_type": "markdown",
   "id": "cd7dde9a",
   "metadata": {},
   "source": [
    "### 1.Write a Python Program to find sum of elements in a list ?"
   ]
  },
  {
   "cell_type": "code",
   "execution_count": 68,
   "id": "7d7f6536",
   "metadata": {},
   "outputs": [
    {
     "name": "stdout",
     "output_type": "stream",
     "text": [
      "List of numbers is : [8, 6, 5.62, 3, 5, 8, 13, 21, 34, 55]\n",
      "The sum of all elements is  158.62\n"
     ]
    }
   ],
   "source": [
    "from functools import reduce\n",
    " \n",
    "List = [8,6,5.62,3,5,8,13,21,34,55]\n",
    "print(\"List of numbers is :\",List)\n",
    "\n",
    "# using Lambda function to  \n",
    "listSum = reduce(lambda a,b:a+b,List)\n",
    "print(\"The sum of all elements is \",listSum)\n"
   ]
  },
  {
   "cell_type": "markdown",
   "id": "24710180",
   "metadata": {},
   "source": [
    "### 2.Write a Python Program to multiply all numbers in the list ?"
   ]
  },
  {
   "cell_type": "code",
   "execution_count": 69,
   "id": "41b53a73",
   "metadata": {},
   "outputs": [
    {
     "name": "stdout",
     "output_type": "stream",
     "text": [
      "List of numbers is : [8, 6, 5.62, 3, 5, 8, 13, 21, 34, 55]\n",
      "The sum of all elements is  16525821311.999998\n"
     ]
    }
   ],
   "source": [
    "from functools import reduce\n",
    " \n",
    "List = [8,6,5.62,3,5,8,13,21,34,55]\n",
    "print(\"List of numbers is :\",List)\n",
    "\n",
    "# using Lambda function to  \n",
    "listSum = reduce(lambda a,b:a*b,List)\n",
    "print(\"The sum of all elements is \",listSum)\n"
   ]
  },
  {
   "cell_type": "markdown",
   "id": "f1ceb2a5",
   "metadata": {},
   "source": [
    "### 3.Write a Python Program to find smallest number in the list ?"
   ]
  },
  {
   "cell_type": "code",
   "execution_count": 70,
   "id": "8b8071a7",
   "metadata": {},
   "outputs": [
    {
     "name": "stdout",
     "output_type": "stream",
     "text": [
      "Smallest element is: 2\n"
     ]
    }
   ],
   "source": [
    "list1 = [4, 6, 11, 2, 9] \n",
    " \n",
    "# sorting the list\n",
    "list1.sort()\n",
    " \n",
    "# printing the first element\n",
    "print(\"Smallest element is:\", list1[0])\n",
    " "
   ]
  },
  {
   "cell_type": "markdown",
   "id": "e1089b46",
   "metadata": {},
   "source": [
    "### 4.Write a Python Program to find largest number in the list ?"
   ]
  },
  {
   "cell_type": "code",
   "execution_count": 88,
   "id": "a77e6aad",
   "metadata": {},
   "outputs": [
    {
     "name": "stdout",
     "output_type": "stream",
     "text": [
      "Largest element is: 11\n"
     ]
    }
   ],
   "source": [
    "list1 = [4, 6, 11, 2, 9]  \n",
    "list1.sort()\n",
    " \n",
    "# printing the first element\n",
    "print(\"Largest element is:\", list1[-1])\n",
    " "
   ]
  },
  {
   "cell_type": "markdown",
   "id": "7452758b",
   "metadata": {},
   "source": [
    "### 5.Write a Python Program to find second largest number in the list ?"
   ]
  },
  {
   "cell_type": "code",
   "execution_count": 91,
   "id": "59ff5ad6",
   "metadata": {},
   "outputs": [
    {
     "name": "stdout",
     "output_type": "stream",
     "text": [
      "the second Largest element is: 9\n"
     ]
    }
   ],
   "source": [
    "list1 = [4, 6, 11, 2, 9]  \n",
    "list1.sort()\n",
    " \n",
    "print(\"the second Largest element is:\", list1[-2])\n",
    " "
   ]
  },
  {
   "cell_type": "markdown",
   "id": "1f15af00",
   "metadata": {},
   "source": [
    "### 6.Write a Python Program to find N largest elements in the list "
   ]
  },
  {
   "cell_type": "markdown",
   "id": "8e052d18",
   "metadata": {},
   "source": [
    "Given a list of integers, the task is to find N largest elements assuming size of list is greater than or equal o N.\n",
    "\n",
    "example=\n",
    "```\n",
    "Input : [4, 6, 1, 2, 9] \n",
    "        N = 2\n",
    "Output :  [9, 5]\n",
    "```\n"
   ]
  },
  {
   "cell_type": "code",
   "execution_count": 23,
   "id": "050fbe84",
   "metadata": {},
   "outputs": [
    {
     "name": "stdout",
     "output_type": "stream",
     "text": [
      "[298, 900, 1000, 3579]\n"
     ]
    }
   ],
   "source": [
    "l = [1000,298,3579,100,200,-45,900]\n",
    "n = 4\n",
    "  \n",
    "l.sort()\n",
    "print(l[-n:])"
   ]
  },
  {
   "cell_type": "markdown",
   "id": "c0a3ed52",
   "metadata": {},
   "source": [
    "### 7.Write a Python Program to find even numbers in the list ?"
   ]
  },
  {
   "cell_type": "code",
   "execution_count": 40,
   "id": "4babde06",
   "metadata": {},
   "outputs": [
    {
     "name": "stdout",
     "output_type": "stream",
     "text": [
      "12,4,66,"
     ]
    }
   ],
   "source": [
    "list = [12, 231, 4, 47, 66, 93]\n",
    " \n",
    "for num in list:\n",
    " \n",
    "    # checking condition\n",
    "    if num % 2 == 0:\n",
    "        print(num,end=\",\")"
   ]
  },
  {
   "cell_type": "markdown",
   "id": "00bdd815",
   "metadata": {},
   "source": [
    "### 8.Write a Python Program to find odd numbers in the list ?"
   ]
  },
  {
   "cell_type": "code",
   "execution_count": 37,
   "id": "3bd9e76f",
   "metadata": {},
   "outputs": [
    {
     "name": "stdout",
     "output_type": "stream",
     "text": [
      "Even numbers in the list:  [2, 4, 6]\n"
     ]
    }
   ],
   "source": [
    "list = [12, 231, 4, 47, 66, 93]\n",
    " \n",
    "# using list comprehension\n",
    "even_num = [num for num in list1 if num % 2 == 0]\n",
    " \n",
    "print(\"Even numbers in the list: \", even_num)"
   ]
  },
  {
   "cell_type": "markdown",
   "id": "1a0b9809",
   "metadata": {},
   "source": [
    "### 9.Write a Python Program to remove empty list from list ?"
   ]
  },
  {
   "cell_type": "code",
   "execution_count": 54,
   "id": "4ff8bee7",
   "metadata": {},
   "outputs": [
    {
     "name": "stdout",
     "output_type": "stream",
     "text": [
      "The original list is :  [5, 6, [], 3, [], [], 9]\n",
      "List after empty list removal : [5, 6, 3, 9]\n"
     ]
    }
   ],
   "source": [
    "list = [5, 6, [], 3, [], [], 9]\n",
    "print(\"The original list is : \", list)\n",
    "\n",
    "# using list comprehension\n",
    "result = [i for i in list if i != []]\n",
    " \n",
    "print(\"List after empty list removal :\", result)"
   ]
  },
  {
   "cell_type": "markdown",
   "id": "cce34e1e",
   "metadata": {},
   "source": [
    "### 10.Write a Python Program to Cloning or Copying a list ?"
   ]
  },
  {
   "cell_type": "code",
   "execution_count": 62,
   "id": "7ac18cad",
   "metadata": {},
   "outputs": [
    {
     "name": "stdout",
     "output_type": "stream",
     "text": [
      "Original List: [4, 8, 2, 10, 15, 18] 2399572329472\n",
      "After Cloning: [4, 8, 2, 10, 15, 18] 2399572024448\n"
     ]
    }
   ],
   "source": [
    "def Cloning(li1):\n",
    "    copy_list =[]\n",
    "    copy_list = li1.copy()\n",
    "    return copy_list\n",
    "   \n",
    "# Driver Code\n",
    "li1 = [4, 8, 2, 10, 15, 18]\n",
    "li2 = Cloning(li1)\n",
    "print(\"Original List:\", li1,id(li1))\n",
    "print(\"After Cloning:\", li2,id(li2))"
   ]
  },
  {
   "cell_type": "markdown",
   "id": "d67625e4",
   "metadata": {},
   "source": [
    "### 11.Write a Python Program to count occurences of an element in a list ?"
   ]
  },
  {
   "cell_type": "code",
   "execution_count": 67,
   "id": "b424f601",
   "metadata": {},
   "outputs": [
    {
     "name": "stdout",
     "output_type": "stream",
     "text": [
      "9 has occurred 4 times in list [9, 6, 9, 10, 9, 20, 19, 9, 8] \n"
     ]
    }
   ],
   "source": [
    "def countX(lst, x):\n",
    "    return lst.count(x)\n",
    " \n",
    "lst = [9, 6, 9, 10, 9, 20, 19, 9, 8]\n",
    "x = 9\n",
    "print('{} has occurred {} times in list {} '.format(x, countX(lst, x),lst))"
   ]
  },
  {
   "cell_type": "code",
   "execution_count": null,
   "id": "feb49cfa",
   "metadata": {},
   "outputs": [],
   "source": []
  }
 ],
 "metadata": {
  "kernelspec": {
   "display_name": "Python 3 (ipykernel)",
   "language": "python",
   "name": "python3"
  },
  "language_info": {
   "codemirror_mode": {
    "name": "ipython",
    "version": 3
   },
   "file_extension": ".py",
   "mimetype": "text/x-python",
   "name": "python",
   "nbconvert_exporter": "python",
   "pygments_lexer": "ipython3",
   "version": "3.9.12"
  }
 },
 "nbformat": 4,
 "nbformat_minor": 5
}

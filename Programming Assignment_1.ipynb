{
 "cells": [
  {
   "cell_type": "markdown",
   "id": "3d968e7e",
   "metadata": {},
   "source": [
    "## 1.Write a Python program to print 'Hello Python' ?"
   ]
  },
  {
   "cell_type": "code",
   "execution_count": 1,
   "id": "ebf01f72",
   "metadata": {},
   "outputs": [
    {
     "name": "stdout",
     "output_type": "stream",
     "text": [
      "Hello Python\n"
     ]
    }
   ],
   "source": [
    "print(\"Hello Python\")"
   ]
  },
  {
   "cell_type": "markdown",
   "id": "114c0624",
   "metadata": {},
   "source": [
    "## 2.Write a Python program to do arithmetic operations addition and division ?"
   ]
  },
  {
   "cell_type": "code",
   "execution_count": 4,
   "id": "1cec184c",
   "metadata": {},
   "outputs": [
    {
     "name": "stdout",
     "output_type": "stream",
     "text": [
      "Enter the numbers you want to add\n",
      "Enter the first number 4\n",
      "Enter the second number 8\n",
      "The addition of two number\n",
      "4+8=12\n",
      "Enter the numbers you want to divide\n",
      "Enter the first number6\n",
      "Enter the second number8\n",
      "The division of two number\n",
      "6/8=0.75\n"
     ]
    }
   ],
   "source": [
    "import operator \n",
    "print(\"Enter the numbers you want to add\")\n",
    "num1=int(input(\"Enter the first number \"))\n",
    "num2= int(input(\"Enter the second number \"))\n",
    "print('The addition of two number\\n{}+{}={}'.format(num1,num2,operator.add(num1,num2)))\n",
    "     \n",
    "\n",
    "\n",
    "print(\"Enter the numbers you want to divide\")\n",
    "num1=int(input(\"Enter the first number\"))\n",
    "num2= int(input(\"Enter the second number\"))\n",
    "\n",
    "print('The division of two number\\n{}/{}={}'.format(num1,num2,operator.truediv(num1,num2)))"
   ]
  },
  {
   "cell_type": "code",
   "execution_count": 3,
   "id": "b31bfafc",
   "metadata": {},
   "outputs": [],
   "source": [
    "def addition():\n",
    "    num1=int(input(\"enter first number\"))\n",
    "    num2= int(input(\"enter secornd number\"))\n",
    "    addition= (num1+num2)\n",
    "    return addition            \n",
    "    "
   ]
  },
  {
   "cell_type": "code",
   "execution_count": 4,
   "id": "99ea068e",
   "metadata": {},
   "outputs": [
    {
     "name": "stdout",
     "output_type": "stream",
     "text": [
      "enter first number4\n",
      "enter secornd number8\n"
     ]
    },
    {
     "data": {
      "text/plain": [
       "12"
      ]
     },
     "execution_count": 4,
     "metadata": {},
     "output_type": "execute_result"
    }
   ],
   "source": [
    "addition()"
   ]
  },
  {
   "cell_type": "code",
   "execution_count": 5,
   "id": "dfe4d462",
   "metadata": {},
   "outputs": [],
   "source": [
    "def division():\n",
    "    num1=int(input(\"enter first number\"))\n",
    "    num2= int(input(\"enter secornd number\"))\n",
    "    division= (num1/num2)\n",
    "    return division             \n",
    "    "
   ]
  },
  {
   "cell_type": "code",
   "execution_count": 6,
   "id": "7b630f9d",
   "metadata": {},
   "outputs": [
    {
     "name": "stdout",
     "output_type": "stream",
     "text": [
      "enter first number6\n",
      "enter secornd number8\n"
     ]
    },
    {
     "data": {
      "text/plain": [
       "0.75"
      ]
     },
     "execution_count": 6,
     "metadata": {},
     "output_type": "execute_result"
    }
   ],
   "source": [
    "division()"
   ]
  },
  {
   "cell_type": "markdown",
   "id": "485b24bf",
   "metadata": {},
   "source": [
    "# 3. Write a Python program to find the area of a triangle?"
   ]
  },
  {
   "attachments": {
    "python-area-triangle-basic-exercise-30.png": {
     "image/png": "[encoded data removed]"
    }
   },
   "cell_type": "markdown",
   "id": "39a5c3d7",
   "metadata": {},
   "source": [
    "![python-area-triangle-basic-exercise-30.png](attachment:python-area-triangle-basic-exercise-30.png)"
   ]
  },
  {
   "cell_type": "code",
   "execution_count": 8,
   "id": "e877df71",
   "metadata": {},
   "outputs": [
    {
     "name": "stdout",
     "output_type": "stream",
     "text": [
      "Input the Base : 3\n",
      "Input the Height : 5\n",
      "The area of triangle with base 3 height 5 is 7.5\n"
     ]
    }
   ],
   "source": [
    "base = int(input(\"Input the Base : \"))\n",
    "height = int(input(\"Input the Height : \"))\n",
    "\n",
    "area = base*height/2\n",
    "\n",
    "print('The area of triangle with base {} height {} is {}'.format(base,height,(area)))\n"
   ]
  },
  {
   "cell_type": "markdown",
   "id": "24ccd648",
   "metadata": {},
   "source": [
    "# 4. Write a Python program to swap two variables?"
   ]
  },
  {
   "cell_type": "code",
   "execution_count": 14,
   "id": "9c0a8981",
   "metadata": {},
   "outputs": [
    {
     "name": "stdout",
     "output_type": "stream",
     "text": [
      "Enter first number: 5\n",
      "Enter second number: 8\n",
      "Before swapping =  5 8\n",
      "After swapping =  8 5\n"
     ]
    }
   ],
   "source": [
    "num1 = int(input(\"Enter first number: \"))\n",
    "num2 = int(input(\"Enter second number: \"))\n",
    "\n",
    "def swap_variable(a,b):\n",
    "    temp = a\n",
    "    a = b\n",
    "    b = temp\n",
    "    return a,b\n",
    "\n",
    "print('Before swapping = ',num1 ,num2)\n",
    "\n",
    "num1,num2=swap_variable(num1,num2)\n",
    "\n",
    "print('After swapping = ',num1,num2)"
   ]
  },
  {
   "cell_type": "markdown",
   "id": "12dc851f",
   "metadata": {},
   "source": [
    "# 5. Write a Python program to generate a random number?"
   ]
  },
  {
   "cell_type": "code",
   "execution_count": 20,
   "id": "d76f01af",
   "metadata": {},
   "outputs": [
    {
     "data": {
      "text/plain": [
       "4"
      ]
     },
     "execution_count": 20,
     "metadata": {},
     "output_type": "execute_result"
    }
   ],
   "source": [
    "import random\n",
    "\n",
    "random.randint(1,10)"
   ]
  },
  {
   "cell_type": "code",
   "execution_count": 23,
   "id": "a0a1485b",
   "metadata": {},
   "outputs": [
    {
     "data": {
      "text/plain": [
       "7"
      ]
     },
     "execution_count": 23,
     "metadata": {},
     "output_type": "execute_result"
    }
   ],
   "source": [
    "# or the only difference in randint and ranrange is randint will inclue the last digit 10 but randrange will not include the last digit 10.\n",
    "\n",
    "from random import randrange\n",
    "\n",
    "random.randrange(1,10)"
   ]
  },
  {
   "cell_type": "code",
   "execution_count": null,
   "id": "cf3d8922",
   "metadata": {},
   "outputs": [],
   "source": []
  }
 ],
 "metadata": {
  "kernelspec": {
   "display_name": "Python 3 (ipykernel)",
   "language": "python",
   "name": "python3"
  },
  "language_info": {
   "codemirror_mode": {
    "name": "ipython",
    "version": 3
   },
   "file_extension": ".py",
   "mimetype": "text/x-python",
   "name": "python",
   "nbconvert_exporter": "python",
   "pygments_lexer": "ipython3",
   "version": "3.9.12"
  }
 },
 "nbformat": 4,
 "nbformat_minor": 5
}

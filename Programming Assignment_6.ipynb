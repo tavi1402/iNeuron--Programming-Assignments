{
 "cells": [
  {
   "cell_type": "markdown",
   "id": "dcde625b",
   "metadata": {},
   "source": [
    "# 1. Write a Python Program to Display Fibonacci Sequence Using Recursion?"
   ]
  },
  {
   "cell_type": "code",
   "execution_count": 22,
   "id": "9420ef7c",
   "metadata": {},
   "outputs": [
    {
     "name": "stdout",
     "output_type": "stream",
     "text": [
      "Enter a number, and number should be greater than 2 (n>=2) : 20\n",
      "[0, 1, 1, 2, 3, 5, 8, 13, 21, 34, 55, 89, 144, 233, 377, 610, 987, 1597, 2584, 4181]\n"
     ]
    }
   ],
   "source": [
    "n = int(input('Enter a number, and number should be greater than 2 (n>=2) : '))\n",
    "def fib_no(n):\n",
    "    if n<=1:\n",
    "        return n\n",
    "    else:\n",
    "        return(fib_no(n-1) + fib_no(n-2))\n",
    "fib_sequence = []\n",
    "\n",
    "for i in range(0,n):\n",
    "    fib_sequence.append(fib_no(i))\n",
    "    \n",
    "print(fib_sequence)"
   ]
  },
  {
   "cell_type": "markdown",
   "id": "52db26fb",
   "metadata": {},
   "source": [
    "# 2. Write a Python Program to Find Factorial of Number Using Recursion?"
   ]
  },
  {
   "cell_type": "code",
   "execution_count": 4,
   "id": "c6ea12ff",
   "metadata": {},
   "outputs": [
    {
     "name": "stdout",
     "output_type": "stream",
     "text": [
      "Enter a whole number to find Factorial: 6\n",
      "factorial of 6 is 720\n"
     ]
    }
   ],
   "source": [
    "num = int(input(\"Enter a whole number to find Factorial: \"))  \n",
    "\n",
    "def fact(n):  \n",
    "    \n",
    "    if n==1:  \n",
    "        return n  \n",
    "    else:  \n",
    "        return n*fact(n-1)   #recursion   \n",
    "if num < 0:  \n",
    "    print(\"factorial does not exist, factorial can't be calculated for negative number\")  \n",
    "elif num == 0:  \n",
    "    print(\"factorial of 0 is 1\")  \n",
    "else:  \n",
    "    print(\"factorial of {} is {}\".format(num,fact(num)))  \n"
   ]
  },
  {
   "cell_type": "markdown",
   "id": "68dc2a5f",
   "metadata": {},
   "source": [
    "# 3. Write a Python Program to calculate your Body Mass Index?"
   ]
  },
  {
   "cell_type": "code",
   "execution_count": 24,
   "id": "0c6d6710",
   "metadata": {},
   "outputs": [
    {
     "name": "stdout",
     "output_type": "stream",
     "text": [
      "Enter the height in cm: 190\n",
      "Enter the weight in kg: 80\n",
      "Your BODDY MASS INDEX is 22.16, and you areYou are healthy.\n"
     ]
    }
   ],
   "source": [
    "the_height = float(input(\"Enter the height in cm: \"))  \n",
    "the_weight = float(input(\"Enter the weight in kg: \"))  \n",
    "\n",
    "def calculate_the_bmi():\n",
    "    the_BMI = the_weight / (the_height/100)**2   \n",
    "\n",
    "    if the_BMI <= 18.5:  \n",
    "        conclusion= \"You are underweight.\"\n",
    "    elif the_BMI <= 24.9:\n",
    "\n",
    "        conclusion=\"You are healthy.\"\n",
    "\n",
    "    elif the_BMI <= 29.9:  \n",
    "\n",
    "        conclusion=\"You are over weight.\"  \n",
    "    else:  \n",
    "        conclusion=\"You are obese.\"  \n",
    "\n",
    "    print(f\"Your BODDY MASS INDEX is {the_BMI:.2f}, and you are{conclusion}\")  \n",
    "calculate_the_bmi()    "
   ]
  },
  {
   "cell_type": "code",
   "execution_count": null,
   "id": "d07b75e6",
   "metadata": {},
   "outputs": [],
   "source": []
  },
  {
   "cell_type": "markdown",
   "id": "e4e42d83",
   "metadata": {},
   "source": [
    "# 4. Write a Python Program to calculate the natural logarithm of any number?"
   ]
  },
  {
   "cell_type": "code",
   "execution_count": 3,
   "id": "f94889ee",
   "metadata": {},
   "outputs": [
    {
     "name": "stdout",
     "output_type": "stream",
     "text": [
      "Enter a Number:6\n",
      "1.791759469228055\n"
     ]
    }
   ],
   "source": [
    "import math\n",
    "def nat_log():\n",
    "    num = int(input(\"Enter a Number:\"))     \n",
    "    print(math.log(num))\n",
    "\n",
    "nat_log()"
   ]
  },
  {
   "cell_type": "markdown",
   "id": "dcc1e371",
   "metadata": {},
   "source": [
    "# 5. Write a Python Program for cube sum of first n natural numbers?"
   ]
  },
  {
   "cell_type": "code",
   "execution_count": 13,
   "id": "8eca7583",
   "metadata": {},
   "outputs": [
    {
     "name": "stdout",
     "output_type": "stream",
     "text": [
      "enter number: 9\n",
      "sum of cubes of first 9 natural numbers:  2025\n"
     ]
    }
   ],
   "source": [
    "n=int(input(\"enter number: \"))\n",
    "def Cube_Sum(n):\n",
    "    sum=0\n",
    "    for i in range(n+1):\n",
    "        sum+=i**3\n",
    "    return sum\n",
    "print(\"sum of cubes of first {} natural numbers: \".format(n),CubeSum(n))"
   ]
  },
  {
   "cell_type": "code",
   "execution_count": null,
   "id": "6f40210e",
   "metadata": {},
   "outputs": [],
   "source": []
  }
 ],
 "metadata": {
  "kernelspec": {
   "display_name": "Python 3 (ipykernel)",
   "language": "python",
   "name": "python3"
  },
  "language_info": {
   "codemirror_mode": {
    "name": "ipython",
    "version": 3
   },
   "file_extension": ".py",
   "mimetype": "text/x-python",
   "name": "python",
   "nbconvert_exporter": "python",
   "pygments_lexer": "ipython3",
   "version": "3.9.12"
  }
 },
 "nbformat": 4,
 "nbformat_minor": 5
}
